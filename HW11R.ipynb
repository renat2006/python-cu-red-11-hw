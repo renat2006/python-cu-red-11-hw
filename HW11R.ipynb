{
 "cells": [
  {
   "cell_type": "markdown",
   "metadata": {
    "deletable": false,
    "editable": false,
    "id": "VZDMN8dJTBaU",
    "pycharm": {
     "name": "#%% md\n"
    }
   },
   "source": [
    "# Красный трек\n",
    "## Задачи по теме «Работа с Git»\n",
    "\n",
    "Решая домашнее задание, ты научишься:\n",
    "\n",
    "- создавать приватный проект;\n",
    "- делать коммиты;\n",
    "- создавать новые ветки и отправлять их на GitHub;\n",
    "- сливать ветки;\n",
    "- удалять ветки и передавать информацию об этом на GitHub.\n",
    "\n",
    "Время решения: ~20 минут."
   ]
  },
  {
   "cell_type": "markdown",
   "metadata": {
    "collapsed": false,
    "deletable": false,
    "editable": false,
    "jupyter": {
     "outputs_hidden": false
    },
    "pycharm": {
     "name": "#%% md\n"
    }
   },
   "source": [
    "## Блокирующее домашнее задание\n",
    "\n",
    "**Как влияет на уровень**\n",
    "\n",
    "Задание необходимо выполнить и сдать на проверку, чтобы подтвердить основной уровень.\n",
    "\n",
    "\n",
    "**Как влияет на оценку**\n",
    "\n",
    "За выполнение **всех** домашних заданий (блокирующих и неблокирующих) начисляются баллы. Чем больше баллов, тем выше оценка за курс."
   ]
  },
  {
   "cell_type": "markdown",
   "metadata": {
    "collapsed": false,
    "deletable": false,
    "editable": false,
    "jupyter": {
     "outputs_hidden": false
    },
    "pycharm": {
     "name": "#%% md\n"
    }
   },
   "source": [
    "## Оценивание домашнего задания\n",
    "\n",
    "**Система оценивания —** бинарная:\n",
    "\n",
    "  - если все задачи решены корректно, без ошибок и полностью соответствуют стандартам кода на курсе, то задание выполнено и оценка — **10 баллов**;\n",
    "  - если решения содержат ошибки или не соответствуют требованиям, то задание не выполнено и оценка — **0 баллов**.\n",
    "\n",
    "\n",
    "**Проверка задания**\n",
    "\n",
    "- Перед тем, как сдать задание, убедись, что твой код работает без ошибок и соответствует стандартам. Для этого используй автоматическую проверку.\n",
    "- Загрузи задание в LMS. Ассистент проверит, соответствуют ли твои решения требованиям и целям домашнего задания, и выставит оценку.\n",
    "\n",
    "\n",
    "**Доработка**\n",
    "\n",
    "  - Если твое задание получило 0 баллов, его вернут на доработку через LMS с комментариями о том, что нужно исправить."
   ]
  },
  {
   "cell_type": "markdown",
   "metadata": {
    "deletable": false,
    "editable": false,
    "id": "xHp5WnHdyF5q",
    "pycharm": {
     "name": "#%% md\n"
    }
   },
   "source": [
    " ## Рекомендации\n",
    "\n",
    "- Приступай к домашнему заданию, только если ты настроил Git.\n",
    "- Выполняй задание локально в отдельной папке, результат выложи на GitHub, ссылку на репозиторий загрузи для проверки в LMS.\n",
    "- Команды Git выполняй через терминал."
   ]
  },
  {
   "cell_type": "markdown",
   "metadata": {
    "deletable": false,
    "editable": false,
    "id": "D3otlg7bTPCG",
    "pycharm": {
     "name": "#%% md\n"
    }
   },
   "source": [
    "### Задача 1\n"
   ]
  },
  {
   "cell_type": "markdown",
   "metadata": {
    "deletable": false,
    "editable": false,
    "id": "NGTgyno_hqRT",
    "pycharm": {
     "name": "#%% md\n"
    }
   },
   "source": [
    "\n",
    "1. Создай публичный проект на GitHub и клонируй его на свой компьютер.\n",
    "2. Сделай локально первый коммит (например, пустой файл `hello.txt`).\n",
    "3. Создай локально отдельную ветку с названием `dev`. Чтобы отправить её на GitHub, воспользуйся коммандой `git push origin -u <branch_name>`. Флаг `-u` обозначает set-upstream.\n",
    "\n",
    "  > **Примечание.** Опция set-upstream создаёт в удалённом репозитории копию локальной ветки и связывает ветки друг с другом.  \n",
    "4. Сделай локально коммит в ветке `dev`, добавив файл `bye.txt`.\n",
    "5. Вернись в ветку `main` и сделай коммит, написав в файле `hello.txt` строчку `Hello, world!`.\n",
    "6. Слей две ветки в одну командой `git merge`.\n",
    "7. После слияния загрузи ветку `main` на GitHub.\n",
    "8. Визуализируй дерево коммитов и прикрепи скриншот в ячейку ниже.\n",
    "9. Удали ветку `dev` (безопасно это можно сделать именно после слияния):\n",
    "  -  В удалённом репозитории коммандой `git push origin -d <branch_name>`.\n",
    "  - Локально `git branch -d <branch_name>`. Флаг `-d` обозначает delete.\n",
    "10. Прикрепи ссылку на твой GitHub-репозиторий в ячейку ниже."
   ]
  },
  {
   "cell_type": "markdown",
   "metadata": {
    "deletable": false,
    "editable": false,
    "id": "8Pc1p7-Ac1t4",
    "pycharm": {
     "name": "#%% md\n"
    }
   },
   "source": [
    "### Заполни ячейки ниже и сдай файл ноутбука на проверку в LMS"
   ]
  },
  {
   "cell_type": "code",
   "execution_count": null,
   "metadata": {
    "deletable": false,
    "id": "RObSAZzHcrjd",
    "pycharm": {
     "name": "#%%\n"
    }
   },
   "outputs": [],
   "source": [
    "# Ячейка для ссылки на репозиторий"
   ]
  },
  {
   "cell_type": "code",
   "execution_count": null,
   "metadata": {
    "deletable": false,
    "id": "f0bmkrGJcsCz",
    "pycharm": {
     "name": "#%%\n"
    }
   },
   "outputs": [],
   "source": [
    "# Ячейка для скрина с деревом коммитов"
   ]
  }
 ],
 "metadata": {
  "colab": {
   "provenance": []
  },
  "kernelspec": {
   "display_name": "Python 3 (ipykernel)",
   "language": "python",
   "name": "python3"
  },
  "language_info": {
   "codemirror_mode": {
    "name": "ipython",
    "version": 3
   },
   "file_extension": ".py",
   "mimetype": "text/x-python",
   "name": "python",
   "nbconvert_exporter": "python",
   "pygments_lexer": "ipython3",
   "version": "3.12.7"
  }
 },
 "nbformat": 4,
 "nbformat_minor": 4
}
